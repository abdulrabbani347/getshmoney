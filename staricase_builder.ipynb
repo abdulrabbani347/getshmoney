{
 "cells": [
  {
   "cell_type": "raw",
   "metadata": {},
   "source": [
    "Create a function that builds a staircase given the height and the type of building block.\n",
    "build_staircase(3, \"#\") ➞ [\n",
    "  [\"#\", \"_\", \"_\"],\n",
    "  [\"#\", \"#\", \"_\"],\n",
    "  [\"#\", \"#\", \"#\"]\n",
    "]"
   ]
  },
  {
   "cell_type": "code",
   "execution_count": 1,
   "metadata": {},
   "outputs": [],
   "source": [
    "#First number should be the heigh\n",
    "    #the number of time we want to iterate\n",
    "# 1    only 1 # and 1-3 _'s ? \n",
    "# 2\n",
    "# 3\n"
   ]
  },
  {
   "cell_type": "code",
   "execution_count": 44,
   "metadata": {},
   "outputs": [],
   "source": [
    "def stairs(count, item):\n",
    "    lst = []\n",
    "    for num in range(1, count + 1):\n",
    "        if num < count:\n",
    "            diff = count - num\n",
    "            for diff in range(1, count + 1):\n",
    "                lst.append([diff],\n",
    "                          )\n",
    "                print(lst)\n"
   ]
  },
  {
   "cell_type": "code",
   "execution_count": 45,
   "metadata": {},
   "outputs": [
    {
     "name": "stdout",
     "output_type": "stream",
     "text": [
      "[[1]]\n",
      "[[1], [2]]\n",
      "[[1], [2], [3]]\n",
      "[[1], [2], [3], [1]]\n",
      "[[1], [2], [3], [1], [2]]\n",
      "[[1], [2], [3], [1], [2], [3]]\n"
     ]
    }
   ],
   "source": [
    "stairs(3, 'la')"
   ]
  },
  {
   "cell_type": "code",
   "execution_count": 139,
   "metadata": {},
   "outputs": [],
   "source": [
    "def stairz(num, thing):\n",
    "    hold =[]\n",
    "    for items in range(1, num + 1):\n",
    "        personal = []\n",
    "        upper = num - items\n",
    "        personal.append([thing] * items)\n",
    "        personal.append(['_'] * upper)\n",
    "        hold.append(sum(personal, []))\n",
    "    print(*hold, sep='\\n')\n",
    "    "
   ]
  },
  {
   "cell_type": "code",
   "execution_count": 141,
   "metadata": {
    "scrolled": true
   },
   "outputs": [
    {
     "name": "stdout",
     "output_type": "stream",
     "text": [
      "['A', '_', '_', '_', '_']\n",
      "['A', 'A', '_', '_', '_']\n",
      "['A', 'A', 'A', '_', '_']\n",
      "['A', 'A', 'A', 'A', '_']\n",
      "['A', 'A', 'A', 'A', 'A']\n"
     ]
    }
   ],
   "source": [
    "stairz(5, 'A')"
   ]
  },
  {
   "cell_type": "code",
   "execution_count": null,
   "metadata": {},
   "outputs": [],
   "source": []
  },
  {
   "cell_type": "code",
   "execution_count": null,
   "metadata": {},
   "outputs": [],
   "source": []
  }
 ],
 "metadata": {
  "kernelspec": {
   "display_name": "Python 3",
   "language": "python",
   "name": "python3"
  },
  "language_info": {
   "codemirror_mode": {
    "name": "ipython",
    "version": 3
   },
   "file_extension": ".py",
   "mimetype": "text/x-python",
   "name": "python",
   "nbconvert_exporter": "python",
   "pygments_lexer": "ipython3",
   "version": "3.7.3"
  }
 },
 "nbformat": 4,
 "nbformat_minor": 2
}
