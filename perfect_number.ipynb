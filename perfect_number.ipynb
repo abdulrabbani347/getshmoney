{
 "cells": [
  {
   "cell_type": "markdown",
   "metadata": {},
   "source": [
    "#Create a function that tests whether or not an integer is a perfect number. A perfect number is a number that can be written as the sum of its factors, excluding the number itself.\n",
    "\n",
    "For example, 6 is a perfect number, since 1 + 2 + 3 = 6, where 1, 2, and 3 are all factors of 6. Similarly, 28 is a perfect number, since 1 + 2 + 4 + 7 + 14 = 28.\n"
   ]
  },
  {
   "cell_type": "code",
   "execution_count": 3,
   "metadata": {},
   "outputs": [],
   "source": [
    "class Perfect:\n",
    "    def __init__(self, x):\n",
    "        self.x = x\n",
    "        \n",
    "    def factor(x):\n",
    "        lst = []\n",
    "        for num in range(1, x):\n",
    "            if x % num == 0:\n",
    "                lst.append(num)\n",
    "                #print(sum(lst))\n",
    "       \n",
    "        if sum(lst) == x:\n",
    "            print('This is a perfect Number')\n",
    "        else:\n",
    "            print('This is not a perfect Number')\n",
    "           \n",
    "                \n",
    "        \n",
    "        "
   ]
  },
  {
   "cell_type": "code",
   "execution_count": 4,
   "metadata": {},
   "outputs": [
    {
     "name": "stdout",
     "output_type": "stream",
     "text": [
      "This is a perfect Number\n"
     ]
    }
   ],
   "source": [
    "Perfect.factor(6)"
   ]
  },
  {
   "cell_type": "code",
   "execution_count": 5,
   "metadata": {},
   "outputs": [
    {
     "name": "stdout",
     "output_type": "stream",
     "text": [
      "This is not a perfect Number\n"
     ]
    }
   ],
   "source": [
    "Perfect.factor(12)"
   ]
  },
  {
   "cell_type": "code",
   "execution_count": 6,
   "metadata": {},
   "outputs": [
    {
     "name": "stdout",
     "output_type": "stream",
     "text": [
      "This is a perfect Number\n"
     ]
    }
   ],
   "source": [
    "Perfect.factor(496)"
   ]
  },
  {
   "cell_type": "code",
   "execution_count": null,
   "metadata": {},
   "outputs": [],
   "source": []
  }
 ],
 "metadata": {
  "kernelspec": {
   "display_name": "Python 3",
   "language": "python",
   "name": "python3"
  },
  "language_info": {
   "codemirror_mode": {
    "name": "ipython",
    "version": 3
   },
   "file_extension": ".py",
   "mimetype": "text/x-python",
   "name": "python",
   "nbconvert_exporter": "python",
   "pygments_lexer": "ipython3",
   "version": "3.7.3"
  }
 },
 "nbformat": 4,
 "nbformat_minor": 2
}
